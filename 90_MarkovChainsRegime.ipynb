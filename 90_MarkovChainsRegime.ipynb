{
  "cells": [
    {
      "cell_type": "markdown",
      "id": "e0b9b533",
      "metadata": {
        "id": "e0b9b533"
      },
      "source": [
        "<div style=\"background-color:#000;\"><img src=\"https://github.com/pyquantnews/PyQuantNewsletter/blob/main/pqn.png?raw=1\"></img></div>"
      ]
    },
    {
      "cell_type": "markdown",
      "id": "bbb152ce",
      "metadata": {
        "id": "bbb152ce"
      },
      "source": [
        "This code uses Hidden Markov Models (HMM) to identify regimes in financial time series data. It downloads historical price data, calculates returns and ranges, and uses them as features for the HMM. The model is fitted with the features to identify different market states. The identified states are then plotted to visualize market regime changes. This is useful for understanding and predicting market behavior."
      ]
    },
    {
      "cell_type": "code",
      "execution_count": 6,
      "id": "fbd8082e",
      "metadata": {
        "id": "fbd8082e",
        "outputId": "1a04e399-499d-4e6f-eb36-6a4cb6839d97",
        "colab": {
          "base_uri": "https://localhost:8080/",
          "height": 350
        }
      },
      "outputs": [
        {
          "output_type": "error",
          "ename": "ModuleNotFoundError",
          "evalue": "No module named 'hmmlearn'",
          "traceback": [
            "\u001b[0;31m---------------------------------------------------------------------------\u001b[0m",
            "\u001b[0;31mModuleNotFoundError\u001b[0m                       Traceback (most recent call last)",
            "\u001b[0;32m<ipython-input-6-ca701bab251f>\u001b[0m in \u001b[0;36m<cell line: 4>\u001b[0;34m()\u001b[0m\n\u001b[1;32m      2\u001b[0m \u001b[0;32mimport\u001b[0m \u001b[0mpandas\u001b[0m \u001b[0;32mas\u001b[0m \u001b[0mpd\u001b[0m\u001b[0;34m\u001b[0m\u001b[0;34m\u001b[0m\u001b[0m\n\u001b[1;32m      3\u001b[0m \u001b[0;32mimport\u001b[0m \u001b[0myfinance\u001b[0m \u001b[0;32mas\u001b[0m \u001b[0myf\u001b[0m\u001b[0;34m\u001b[0m\u001b[0;34m\u001b[0m\u001b[0m\n\u001b[0;32m----> 4\u001b[0;31m \u001b[0;32mfrom\u001b[0m \u001b[0mhmmlearn\u001b[0m \u001b[0;32mimport\u001b[0m \u001b[0mhmm\u001b[0m\u001b[0;34m\u001b[0m\u001b[0;34m\u001b[0m\u001b[0m\n\u001b[0m",
            "\u001b[0;31mModuleNotFoundError\u001b[0m: No module named 'hmmlearn'",
            "",
            "\u001b[0;31m---------------------------------------------------------------------------\u001b[0;32m\nNOTE: If your import is failing due to a missing package, you can\nmanually install dependencies using either !pip or !apt.\n\nTo view examples of installing some common dependencies, click the\n\"Open Examples\" button below.\n\u001b[0;31m---------------------------------------------------------------------------\u001b[0m\n"
          ],
          "errorDetails": {
            "actions": [
              {
                "action": "open_url",
                "actionText": "Open Examples",
                "url": "/notebooks/snippets/importing_libraries.ipynb"
              }
            ]
          }
        }
      ],
      "source": [
        "import numpy as np\n",
        "import pandas as pd\n",
        "import yfinance as yf\n",
        "import hmmlearn\n",
        "from hmmlearn import hmm"
      ]
    },
    {
      "cell_type": "markdown",
      "id": "e66793fc",
      "metadata": {
        "id": "e66793fc"
      },
      "source": [
        "Download historical price data for SPY from Yahoo Finance"
      ]
    },
    {
      "cell_type": "code",
      "execution_count": null,
      "id": "2b0e43aa",
      "metadata": {
        "id": "2b0e43aa"
      },
      "outputs": [],
      "source": [
        "data = yf.download(\"SPY\")"
      ]
    },
    {
      "cell_type": "markdown",
      "id": "52141649",
      "metadata": {
        "id": "52141649"
      },
      "source": [
        "Calculate log returns of the closing prices"
      ]
    },
    {
      "cell_type": "code",
      "execution_count": null,
      "id": "c31978ad",
      "metadata": {
        "id": "c31978ad"
      },
      "outputs": [],
      "source": [
        "returns = np.log(data.Close / data.Close.shift(1))"
      ]
    },
    {
      "cell_type": "markdown",
      "id": "1f181add",
      "metadata": {
        "id": "1f181add"
      },
      "source": [
        "Calculate the range as the difference between high and low prices"
      ]
    },
    {
      "cell_type": "code",
      "execution_count": null,
      "id": "7f6a03ba",
      "metadata": {
        "id": "7f6a03ba"
      },
      "outputs": [],
      "source": [
        "range = (data.High - data.Low)"
      ]
    },
    {
      "cell_type": "markdown",
      "id": "6a286ad5",
      "metadata": {
        "id": "6a286ad5"
      },
      "source": [
        "Concatenate returns and range into a single DataFrame and drop any missing values"
      ]
    },
    {
      "cell_type": "code",
      "execution_count": null,
      "id": "0b6e0fed",
      "metadata": {
        "id": "0b6e0fed"
      },
      "outputs": [],
      "source": [
        "features = pd.concat([returns, range], axis=1).dropna()\n",
        "features.columns = [\"returns\", \"range\"]"
      ]
    },
    {
      "cell_type": "markdown",
      "id": "b7e18b8d",
      "metadata": {
        "id": "b7e18b8d"
      },
      "source": [
        "Initialize a Gaussian Hidden Markov Model with 3 states and fit it to the features"
      ]
    },
    {
      "cell_type": "code",
      "execution_count": null,
      "id": "51c204c1",
      "metadata": {
        "id": "51c204c1"
      },
      "outputs": [],
      "source": [
        "model = hmm.GaussianHMM(\n",
        "    n_components=3,\n",
        "    covariance_type=\"full\",\n",
        "    n_iter=1000,\n",
        ")\n",
        "model.fit(features)"
      ]
    },
    {
      "cell_type": "markdown",
      "id": "8b338395",
      "metadata": {
        "id": "8b338395"
      },
      "source": [
        "Predict the hidden states for the given features and store them in a Series"
      ]
    },
    {
      "cell_type": "code",
      "execution_count": 4,
      "id": "b02db04c",
      "metadata": {
        "id": "b02db04c",
        "outputId": "6f0b781f-f410-4c5f-b5e8-545e83d220e8",
        "colab": {
          "base_uri": "https://localhost:8080/",
          "height": 159
        }
      },
      "outputs": [
        {
          "output_type": "error",
          "ename": "NameError",
          "evalue": "name 'model' is not defined",
          "traceback": [
            "\u001b[0;31m---------------------------------------------------------------------------\u001b[0m",
            "\u001b[0;31mNameError\u001b[0m                                 Traceback (most recent call last)",
            "\u001b[0;32m<ipython-input-4-db181d2c8b11>\u001b[0m in \u001b[0;36m<cell line: 1>\u001b[0;34m()\u001b[0m\n\u001b[0;32m----> 1\u001b[0;31m \u001b[0mstates\u001b[0m \u001b[0;34m=\u001b[0m \u001b[0mpd\u001b[0m\u001b[0;34m.\u001b[0m\u001b[0mSeries\u001b[0m\u001b[0;34m(\u001b[0m\u001b[0mmodel\u001b[0m\u001b[0;34m.\u001b[0m\u001b[0mpredict\u001b[0m\u001b[0;34m(\u001b[0m\u001b[0mfeatures\u001b[0m\u001b[0;34m)\u001b[0m\u001b[0;34m,\u001b[0m \u001b[0mindex\u001b[0m\u001b[0;34m=\u001b[0m\u001b[0mdata\u001b[0m\u001b[0;34m.\u001b[0m\u001b[0mindex\u001b[0m\u001b[0;34m[\u001b[0m\u001b[0;36m1\u001b[0m\u001b[0;34m:\u001b[0m\u001b[0;34m]\u001b[0m\u001b[0;34m)\u001b[0m\u001b[0;34m\u001b[0m\u001b[0;34m\u001b[0m\u001b[0m\n\u001b[0m\u001b[1;32m      2\u001b[0m \u001b[0mstates\u001b[0m\u001b[0;34m.\u001b[0m\u001b[0mname\u001b[0m \u001b[0;34m=\u001b[0m \u001b[0;34m\"state\"\u001b[0m\u001b[0;34m\u001b[0m\u001b[0;34m\u001b[0m\u001b[0m\n",
            "\u001b[0;31mNameError\u001b[0m: name 'model' is not defined"
          ]
        }
      ],
      "source": [
        "states = pd.Series(model.predict(features), index=data.index[1:])\n",
        "states.name = \"state\""
      ]
    },
    {
      "cell_type": "markdown",
      "id": "649d1abc",
      "metadata": {
        "id": "649d1abc"
      },
      "source": [
        "Plot a histogram of the hidden states"
      ]
    },
    {
      "cell_type": "code",
      "execution_count": 3,
      "id": "c1da4348",
      "metadata": {
        "id": "c1da4348",
        "outputId": "da8dc370-7329-45f1-b031-f90e8fd45576",
        "colab": {
          "base_uri": "https://localhost:8080/",
          "height": 141
        }
      },
      "outputs": [
        {
          "output_type": "error",
          "ename": "NameError",
          "evalue": "name 'states' is not defined",
          "traceback": [
            "\u001b[0;31m---------------------------------------------------------------------------\u001b[0m",
            "\u001b[0;31mNameError\u001b[0m                                 Traceback (most recent call last)",
            "\u001b[0;32m<ipython-input-3-50196bcc6fe8>\u001b[0m in \u001b[0;36m<cell line: 1>\u001b[0;34m()\u001b[0m\n\u001b[0;32m----> 1\u001b[0;31m \u001b[0mstates\u001b[0m\u001b[0;34m.\u001b[0m\u001b[0mhist\u001b[0m\u001b[0;34m(\u001b[0m\u001b[0;34m)\u001b[0m\u001b[0;34m\u001b[0m\u001b[0;34m\u001b[0m\u001b[0m\n\u001b[0m",
            "\u001b[0;31mNameError\u001b[0m: name 'states' is not defined"
          ]
        }
      ],
      "source": [
        "states.hist()"
      ]
    },
    {
      "cell_type": "markdown",
      "id": "99d0edca",
      "metadata": {
        "id": "99d0edca"
      },
      "source": [
        "Define a color map for the different states"
      ]
    },
    {
      "cell_type": "code",
      "execution_count": null,
      "id": "7944911f",
      "metadata": {
        "id": "7944911f"
      },
      "outputs": [],
      "source": [
        "color_map = {\n",
        "    0.0: \"green\",\n",
        "    1.0: \"orange\",\n",
        "    2.0: \"red\"\n",
        "}"
      ]
    },
    {
      "cell_type": "markdown",
      "id": "43dda8ae",
      "metadata": {
        "id": "43dda8ae"
      },
      "source": [
        "Concatenate the closing prices and the states, drop missing values,\n",
        "set state as a hierarchical index, unstack the state index, and plot the closing prices with different colors for each state"
      ]
    },
    {
      "cell_type": "code",
      "execution_count": null,
      "id": "b77b347f",
      "metadata": {
        "id": "b77b347f"
      },
      "outputs": [],
      "source": [
        "(\n",
        "    pd.concat([data.Close, states], axis=1)\n",
        "    .dropna()\n",
        "    .set_index(\"state\", append=True)\n",
        "    .Close\n",
        "    .unstack(\"state\")\n",
        "    .plot(color=color_map)\n",
        ")"
      ]
    },
    {
      "cell_type": "markdown",
      "id": "5a9b87dd",
      "metadata": {
        "id": "5a9b87dd"
      },
      "source": [
        "<a href=\"https://pyquantnews.com/\">PyQuant News</a> is where finance practitioners level up with Python for quant finance, algorithmic trading, and market data analysis. Looking to get started? Check out the fastest growing, top-selling course to <a href=\"https://gettingstartedwithpythonforquantfinance.com/\">get started with Python for quant finance</a>. For educational purposes. Not investment advise. Use at your own risk."
      ]
    }
  ],
  "metadata": {
    "jupytext": {
      "cell_metadata_filter": "-all",
      "main_language": "python",
      "notebook_metadata_filter": "-all"
    },
    "colab": {
      "provenance": []
    },
    "language_info": {
      "name": "python"
    },
    "kernelspec": {
      "name": "python3",
      "display_name": "Python 3"
    }
  },
  "nbformat": 4,
  "nbformat_minor": 5
}